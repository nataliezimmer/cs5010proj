{
 "cells": [
  {
   "cell_type": "code",
   "execution_count": null,
   "metadata": {},
   "outputs": [],
   "source": [
    "# The user must enter a country code, region (or state) code, and/or DMA (Designated Market Area) code.\n",
    "# https://www.npmjs.com/package/google-trends-api#geo-help"
   ]
  },
  {
   "cell_type": "code",
   "execution_count": 3,
   "metadata": {},
   "outputs": [],
   "source": [
    "from pytrendsdaily import getDailyData\n",
    "from pytrends.request import TrendReq\n",
    "from pytrends import dailydata\n",
    "import pandas as pd\n",
    "import numpy as np\n",
    "import time\n",
    "import datetime\n",
    "from datetime import datetime, date, time\n",
    "      \n",
    "def get_daily_data(kw_list,start_date,end_date,geo):\n",
    "    pytrend = TrendReq(hl='en-US',tz=360,retries=10, backoff_factor=0.5)\n",
    "    \n",
    "    try:\n",
    "        start = datetime.strptime(start_date, '%Y-%m-%d')\n",
    "        end = datetime.strptime(end_date, '%Y-%m-%d')\n",
    "        start_year = int(start.year)\n",
    "        start_month = int(start.month)\n",
    "        end_year = int(end.year)\n",
    "        end_month = int(end.month)\n",
    "    except:\n",
    "        pass\n",
    "    \n",
    "    count = 0\n",
    "    data = None\n",
    "    while count < 10:\n",
    "        try:\n",
    "            for kw in kw_list:\n",
    "                df = dailydata.get_daily_data(word=kw, start_year= start_year, start_mon = start_month,\n",
    "                                                      stop_year = end_year, stop_mon = end_month, geo = geo, verbose = False, wait_time = 1.0)\n",
    "                #only keep scaled data\n",
    "                df = df.iloc[:, [-1]]\n",
    "                if data is None:\n",
    "                    data = df\n",
    "                else:\n",
    "                    data = data.join(df,how = 'outer')\n",
    "            return data\n",
    "            break\n",
    "        except:\n",
    "            count += 1\n",
    "            if count == 10:\n",
    "                error ='We are unable process your request at this time. Please check your entry and try again.'\n",
    "                return error\n",
    "                break\n",
    "            else:\n",
    "                pass"
   ]
  },
  {
   "cell_type": "code",
   "execution_count": 7,
   "metadata": {},
   "outputs": [],
   "source": [
    "def get_daily_data_single():\n",
    "    \n",
    "    kw = [input('Enter a keyword: ')]\n",
    "    geo = input('Enter the code of the geography you are intrested in:')\n",
    "    start_date = input('Enter a start date in the format YYYY-MM-DD:')\n",
    "    end_date = input('Enter a end date in the format YYYY-MM-DD:')\n",
    "    \n",
    "    df = get_daily_data(kw,start_date,end_date,geo)\n",
    "    \n",
    "    colCount = df.shape[0]\n",
    "\n",
    "    df['index'] = range(0,colCount)\n",
    "    \n",
    "    return df,kw"
   ]
  },
  {
   "cell_type": "code",
   "execution_count": 10,
   "metadata": {},
   "outputs": [],
   "source": [
    "def get_daily_data_multiple():\n",
    "    \n",
    "    kw_list = input('Enter up to 5 words separated by a comma: ')\n",
    "    kw_multi = kw_list.split(\",\")[:5]\n",
    "    geo = input('Enter the code of the geography you are intrested in:')\n",
    "    start_date = input('Enter a start date in the format YYYY-MM-DD:')\n",
    "    end_date = input('Enter a end date in the format YYYY-MM-DD:')\n",
    "    \n",
    "    df = get_daily_data(kw_multi,start_date,end_date,geo)\n",
    "    \n",
    "    colCount = df.shape[0]\n",
    "\n",
    "    df['index'] = range(0,colCount)\n",
    "    \n",
    "    return df,kw_list"
   ]
  }
 ],
 "metadata": {
  "kernelspec": {
   "display_name": "Python 3",
   "language": "python",
   "name": "python3"
  },
  "language_info": {
   "codemirror_mode": {
    "name": "ipython",
    "version": 3
   },
   "file_extension": ".py",
   "mimetype": "text/x-python",
   "name": "python",
   "nbconvert_exporter": "python",
   "pygments_lexer": "ipython3",
   "version": "3.7.7"
  },
  "varInspector": {
   "cols": {
    "lenName": 16,
    "lenType": 16,
    "lenVar": 40
   },
   "kernels_config": {
    "python": {
     "delete_cmd_postfix": "",
     "delete_cmd_prefix": "del ",
     "library": "var_list.py",
     "varRefreshCmd": "print(var_dic_list())"
    },
    "r": {
     "delete_cmd_postfix": ") ",
     "delete_cmd_prefix": "rm(",
     "library": "var_list.r",
     "varRefreshCmd": "cat(var_dic_list()) "
    }
   },
   "types_to_exclude": [
    "module",
    "function",
    "builtin_function_or_method",
    "instance",
    "_Feature"
   ],
   "window_display": true
  }
 },
 "nbformat": 4,
 "nbformat_minor": 2
}
