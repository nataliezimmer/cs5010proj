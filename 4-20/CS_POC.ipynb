{
 "cells": [
  {
   "cell_type": "code",
   "execution_count": null,
   "metadata": {},
   "outputs": [],
   "source": [
    "#Prior to using this program, please install the following module if you haven't already\n",
    "pip install gitpython"
   ]
  },
  {
   "cell_type": "code",
   "execution_count": null,
   "metadata": {},
   "outputs": [],
   "source": [
    "#The following command will download the necessary libraries\n",
    "\n",
    "import os\n",
    "from git import Repo\n",
    "\n",
    "tempDir = os.getcwd()+\"/tempGit\"\n",
    "git_url = 'https://github.com/g86-20/CS5010SP2020GPBNMJ.git'\n",
    "repo_dir = tempDir\n",
    "\n",
    "if __name__ == \"__main__\":\n",
    "    Repo.clone_from(git_url, repo_dir, branch='master')\n",
    "    print(\"OK\")\n",
    "\n",
    "#Change the working directory to access the retrieved modules\n",
    "os.chdir(tempDir)"
   ]
  },
  {
   "cell_type": "code",
   "execution_count": null,
   "metadata": {},
   "outputs": [],
   "source": [
    "import os\n",
    "from git import Repo\n",
    "\n",
    "tempDir = os.getcwd()+\"/tempGit\"\n",
    "os.chdir(tempDir)"
   ]
  },
  {
   "cell_type": "code",
   "execution_count": null,
   "metadata": {
    "scrolled": true
   },
   "outputs": [],
   "source": [
    "#Prior to using this program, users must download the required modules     \n",
    "import CS5010_SP"
   ]
  },
  {
   "cell_type": "code",
   "execution_count": null,
   "metadata": {},
   "outputs": [],
   "source": [
    "CS5010_SP.mainMenu()"
   ]
  },
  {
   "cell_type": "code",
   "execution_count": null,
   "metadata": {},
   "outputs": [],
   "source": [
    "# if __name__ == '__main__':\n",
    "#     CS5010_SP.main(argv=['first-arg-is-ignored'], exit=False)"
   ]
  }
 ],
 "metadata": {
  "kernelspec": {
   "display_name": "Python 3",
   "language": "python",
   "name": "python3"
  },
  "language_info": {
   "codemirror_mode": {
    "name": "ipython",
    "version": 3
   },
   "file_extension": ".py",
   "mimetype": "text/x-python",
   "name": "python",
   "nbconvert_exporter": "python",
   "pygments_lexer": "ipython3",
   "version": "3.7.7"
  }
 },
 "nbformat": 4,
 "nbformat_minor": 4
}
