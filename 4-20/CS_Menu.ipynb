{
 "cells": [
  {
   "cell_type": "code",
   "execution_count": null,
   "metadata": {},
   "outputs": [],
   "source": [
    "import sys\n",
    "\n",
    "from CS_StockData import *\n",
    "from CS_Graphing import *\n",
    "from CS_DataProcessing import *\n",
    "\n",
    "def mainMenu():\n",
    "    print(\"************MAIN MENU**************\\n\")\n",
    "    choice = input(\"\"\"\n",
    "                      1: Stocks menu\n",
    "                      2: Stocks and Google Analytics menu\n",
    "                      3: Google Analytics menu   \n",
    "                      0: Quit\n",
    "\n",
    "                      Please enter your choice: \"\"\")\n",
    "    # not sure if we want to include options 3 or 4\n",
    "    if choice == \"1\":\n",
    "        stocksMenu()\n",
    "    elif choice == \"2\":\n",
    "        stockAndWordMenu()\n",
    "    elif choice == \"3\":\n",
    "        wordsMenu()\n",
    "    elif choice==\"4\":\n",
    "        # add suggested stocks/word combinations? \n",
    "        # or just a general help menu?\n",
    "        pass\n",
    "    elif choice==\"0\":\n",
    "        sys.exit\n",
    "    else:\n",
    "        print(\"\\nPlease choose from options 1, 2, 3, or 4.\")\n",
    "        print(\"Please try again.\\n\")\n",
    "        mainMenu()\n"
   ]
  },
  {
   "cell_type": "code",
   "execution_count": null,
   "metadata": {},
   "outputs": [],
   "source": [
    "def stocksMenu():\n",
    "    print(\"\\n************OPTION 1: STOCKS MENU**************\\n\")\n",
    "    choice = input(\"\"\"\n",
    "                      What would you like to look at?\n",
    "                      1: Single stock analysis \n",
    "                      2: Multiple stock comparison \n",
    "                      0: Return to main menu\n",
    "\n",
    "                      Please enter your choice: \"\"\")\n",
    "    if choice == \"1\":\n",
    "        singleStockOptions()\n",
    "        continueOrExit()\n",
    "    elif choice == \"2\":\n",
    "        multipleStockOptions()\n",
    "        continueOrExit()\n",
    "    elif choice==\"0\":\n",
    "        mainMenu()\n",
    "    else:\n",
    "        print(\"\\nPlease choose from options 1 or 2; or enter 0 to return to the main menu.\")\n",
    "        print(\"Please try again.\\n\")\n",
    "        stocksMenu()"
   ]
  },
  {
   "cell_type": "code",
   "execution_count": null,
   "metadata": {},
   "outputs": [],
   "source": [
    "def stockAndWordMenu():\n",
    "    print(\"\\n************OPTION 2: STOCKS AND GOOGLE ANALYTICS MENU**************\\n\")\n",
    "    choice = input(\"\"\"\n",
    "                      What would you like to look at?\n",
    "                      1: Close-up comparison of a single stock and keyword\n",
    "                      0: Return to main menu\n",
    "\n",
    "                      Please enter your choice: \"\"\")\n",
    "    if choice == \"1\":\n",
    "        singleStocksingleWord()\n",
    "        continueOrExit()\n",
    "    elif choice==\"0\":\n",
    "        mainMenu()\n",
    "    else:\n",
    "        print(\"\\nPlease choose from options 1, 2, 3, or 4.\")\n",
    "        print(\"Please try again.\\n\")\n",
    "        stockAndWordMenu()"
   ]
  },
  {
   "cell_type": "code",
   "execution_count": null,
   "metadata": {},
   "outputs": [],
   "source": [
    "def wordsMenu():\n",
    "    print(\"\\n************OPTION 3: GOOGLE ANALYTICS MENU**************\\n\")\n",
    "    choice = input(\"\"\"\n",
    "                      What would you like to look at?\n",
    "                      1: Single keyword\n",
    "                      2: Multiple keywords\n",
    "                      0: Return to main menu\n",
    "\n",
    "                      Please enter your choice: \"\"\")\n",
    "    if choice == \"1\":\n",
    "        singleKeyWord()\n",
    "        continueOrExit()\n",
    "    if choice == \"2\":\n",
    "        multipleKeyWord()\n",
    "        continueOrExit()\n",
    "    elif choice==\"0\":\n",
    "        mainMenu()\n",
    "    else:\n",
    "        print(\"\\nPlease choose from options 1, 2, 3, or 4.\")\n",
    "        print(\"Please try again.\\n\")\n",
    "        wordsMenu()\n",
    "    \n",
    "    pass"
   ]
  },
  {
   "cell_type": "code",
   "execution_count": null,
   "metadata": {},
   "outputs": [],
   "source": [
    "def singleStockOptions():\n",
    "    symbol = input(\"Please enter a stock symbol: \")\n",
    "    stockName, stockData = getStockData(symbol) # it won't return anything for AMZN (Amazon)? maybe do unit testing for this\n",
    "    # add try-except loop for if stock symbol isn't valid? \n",
    "    \n",
    "    if stockName != \"stop\":\n",
    "        showTableData(stockData,stockName)\n",
    "        graphSingleStockDefault(stockData,stockName)\n",
    "        graphSingleStockPrediction(stockData,stockName)\n",
    "    else:\n",
    "        pass\n",
    "    # def graphMACD_buy_sell(df, ticker, fast, slow, macd) ### add this later-- ask about the parameters"
   ]
  },
  {
   "cell_type": "code",
   "execution_count": null,
   "metadata": {},
   "outputs": [],
   "source": [
    "    \n",
    "def multipleStockOptions():\n",
    "    symbols = input(\"Please enter up to five stock symbols, separated by commas: \")\n",
    "    stockNames, stockData = getStockData(symbols)\n",
    "    \n",
    "    if stockNames != \"stop\":\n",
    "        graphMultipleStockDefault(stockData)\n",
    "    else:\n",
    "        pass"
   ]
  },
  {
   "cell_type": "code",
   "execution_count": null,
   "metadata": {},
   "outputs": [],
   "source": [
    "def singleStockSingleWord():\n",
    "    symbol = input(\"Please enter a stock symbol: \")\n",
    "    stockName, stockData = getStockData(symbol)\n",
    "    word = input(\"Please enter a keyword: \")\n",
    "    # call the function that will return the Google Analytics data here\n",
    "    # buildStockAndWordLineGraph(stockData, wordData) -- this is an empty function in the graphing module right now"
   ]
  },
  {
   "cell_type": "code",
   "execution_count": null,
   "metadata": {},
   "outputs": [],
   "source": [
    "def singleKeyWord():\n",
    "    \n",
    "    keywordData,keyword = get_daily_data_single()\n",
    "    \n",
    "    if type(keywordData)==str:\n",
    "        print(keyword)\n",
    "    else:\n",
    "        graphSingleKeywordDefault(keywordData,keyword)"
   ]
  },
  {
   "cell_type": "code",
   "execution_count": null,
   "metadata": {},
   "outputs": [],
   "source": [
    "def multipleKeyWord():\n",
    "    pass"
   ]
  },
  {
   "cell_type": "code",
   "execution_count": null,
   "metadata": {},
   "outputs": [],
   "source": [
    "def continueOrExit():\n",
    "    keepGoing = input(\"Would you like to look at something else? Y/N: \")\n",
    "    keepGoing = keepGoing.upper()\n",
    "    if keepGoing == \"Y\":\n",
    "        mainMenu()\n",
    "    elif keepGoing == \"N\":\n",
    "        sys.exit\n",
    "    else:\n",
    "        print(\"Please enter Y for Yes or N for No.\")\n",
    "        continueOrExit()"
   ]
  }
 ],
 "metadata": {
  "kernelspec": {
   "display_name": "Python 3",
   "language": "python",
   "name": "python3"
  },
  "language_info": {
   "codemirror_mode": {
    "name": "ipython",
    "version": 3
   },
   "file_extension": ".py",
   "mimetype": "text/x-python",
   "name": "python",
   "nbconvert_exporter": "python",
   "pygments_lexer": "ipython3",
   "version": "3.7.7"
  }
 },
 "nbformat": 4,
 "nbformat_minor": 4
}
